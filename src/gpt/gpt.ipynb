{
 "cells": [
  {
   "cell_type": "code",
   "execution_count": 10,
   "metadata": {},
   "outputs": [],
   "source": [
    "from openai import OpenAI\n",
    "import tiktoken\n",
    "\n",
    "from pytrial.data.demo_data import load_trial_outcome_data\n",
    "from pytrial.data.trial_data import TrialOutcomeDatasetBase\n",
    "\n",
    "import seaborn as sns\n",
    "import matplotlib.pyplot as plt\n",
    "from sklearn.metrics import *\n",
    "import matplotlib.pyplot as plt\n",
    "import pandas as pd\n",
    "from sklearn.preprocessing import LabelEncoder\n",
    "\n",
    "import requests\n",
    "from dotenv import load_dotenv\n",
    "import traceback\n",
    "from typing import Iterable\n",
    "from tqdm import tqdm\n",
    "import json\n",
    "from datetime import datetime\n",
    "import os"
   ]
  },
  {
   "cell_type": "code",
   "execution_count": 11,
   "metadata": {},
   "outputs": [],
   "source": [
    "def get_length(model, text):\n",
    "    assert model == \"gpt-3.5-turbo\" or model == \"gpt-4-0125-preview\"\n",
    "    encoder = tiktoken.encoding_for_model(model)\n",
    "    token_cnt = len(encoder.encode(text))\n",
    "    return token_cnt\n",
    "\n",
    "def get_pricing(direction, model, text):\n",
    "    assert (model == \"gpt-3.5-turbo\" or model == \"gpt-4-0125-preview\") and (direction == \"in\" or direction == \"out\")\n",
    "    token_cnt = get_length(model, text)\n",
    "    if direction == \"in\":\n",
    "        return (token_cnt * 0.01 / 1e3 if model == \"gpt-4-0125-preview\" else token_cnt * 0.0005 / 1e3)\n",
    "    else:\n",
    "        return (token_cnt * 0.03 / 1e3 if model == \"gpt-4-0125-preview\" else token_cnt * 0.0015 / 1e3)"
   ]
  },
  {
   "cell_type": "code",
   "execution_count": 12,
   "metadata": {},
   "outputs": [],
   "source": [
    "load_dotenv()\n",
    "assert os.getenv(\"OPENAI_API_KEY\") is not None\n",
    "\n",
    "client = OpenAI()\n",
    "\n",
    "def get_assistant_msg(content: str):\n",
    "    return {\"role\": \"assistant\",\n",
    "            \"content\": content}\n",
    "\n",
    "def pipe_qa_chat(trial: str, base_messages: list, summary_prompt: str, model: str, tool_data: dict, questions = None):\n",
    "    \n",
    "    trial_message = {\"role\": \"user\",\n",
    "                     \"content\": f\"The trial data is the following.\\n{trial}\\nLet's explain this clinical trial for predicting its success. Let's examine, step by step.\"}\n",
    "    \n",
    "    messages = base_messages.copy()\n",
    "    messages.append(trial_message)\n",
    "    history = messages.copy()\n",
    "    response = get_assistant_msg(get_response(history, model, None))\n",
    "    history.append(response)\n",
    "\n",
    "    question_responses = []\n",
    "    for question in questions:\n",
    "        question_responses.append(question)\n",
    "        response = get_assistant_msg(get_response(\n",
    "            messages + [question], model, None))\n",
    "        question_responses.append(response)\n",
    "\n",
    "    history += question_responses\n",
    "\n",
    "    summary_message = {\"role\": \"user\",\n",
    "                       \"content\": f\"{summary_prompt} With that in mind, predict the outcome of this clinical trial. Let's examine, step by step.\"}\n",
    "    \n",
    "    history.append(summary_message)\n",
    "    response = get_response(history, model, tool_data)\n",
    "\n",
    "    return response\n",
    "\n",
    "\n",
    "def get_response(messages: list, model: str, tool_data: dict):\n",
    "    # print(len(messages))\n",
    "    # return {\"reasoning\": \"\", \"prediction\": \"\"}\n",
    "\n",
    "    if tool_data is not None:\n",
    "        tools = [\n",
    "            {\n",
    "                \"type\": \"function\",\n",
    "                \"function\": {\n",
    "                    \"name\": \"predict_trial_outcome\",\n",
    "                    \"description\": tool_data.get(\"description\"),\n",
    "                    \"parameters\": tool_data.get(\"parameters\")\n",
    "                }\n",
    "            }\n",
    "        ]\n",
    "    \n",
    "        completion = client.chat.completions.create(\n",
    "            model=model,\n",
    "            messages=messages,\n",
    "            tools=tools,\n",
    "            tool_choice=\"auto\",\n",
    "            temperature=0,\n",
    "        )\n",
    "\n",
    "    else:\n",
    "        completion = client.chat.completions.create(\n",
    "            model=model,\n",
    "            messages=messages\n",
    "        )\n",
    "\n",
    "    assert completion.choices is not None\n",
    "\n",
    "    message = completion.choices[0].message\n",
    "    if message.tool_calls is not None:\n",
    "        tool_calls = message.tool_calls\n",
    "        response = tool_calls[0].function.arguments\n",
    "    else:\n",
    "        response = message.content\n",
    "\n",
    "    if response is None:\n",
    "        raise ValueError(f\"Invalid response structure: {completion}\")\n",
    "\n",
    "    return response"
   ]
  },
  {
   "cell_type": "code",
   "execution_count": 17,
   "metadata": {},
   "outputs": [],
   "source": [
    "results_folder = \"../../results/gpt\"\n",
    "results_file = \"gpt4-phase3-subtasks+clinical_knowledge+augmented_data.json\"\n",
    "model = \"gpt-4-0125-preview\"\n",
    "limit = 30"
   ]
  },
  {
   "cell_type": "code",
   "execution_count": 18,
   "metadata": {},
   "outputs": [],
   "source": [
    "def serialize_row(row: pd.Series) -> str:\n",
    "    text_values = []\n",
    "    for colname, value in row.items():\n",
    "        text_values.append(f\"{colname} is {value if value is not None else 'unknown'}\")\n",
    "\n",
    "    return \", \".join(text_values) + \".\""
   ]
  },
  {
   "cell_type": "code",
   "execution_count": 19,
   "metadata": {},
   "outputs": [],
   "source": [
    "def get_nct_data(nct_ids: list[str]):\n",
    "    url_prefix = \"https://clinicaltrials.gov/api/v2/studies\"\n",
    "    headers = {\n",
    "        \"accept\": \"application/json\",\n",
    "    }\n",
    "\n",
    "    query_enc_ids = [\"%22\" + nct_id + \"%22\" for nct_id  in nct_ids]\n",
    "    query = \"?query.id=\" + \"+OR+\".join(query_enc_ids) + \"&pageSize=200\"\n",
    "\n",
    "    try:\n",
    "        response = requests.get(f\"{url_prefix}{query}\", headers=headers)\n",
    "\n",
    "        if response.status_code == 200:\n",
    "            trial_data = response.json()\n",
    "            trials = []\n",
    "\n",
    "            print(f\"Study count: {len(trial_data['studies'])}\")\n",
    "\n",
    "            for study in trial_data['studies']:\n",
    "                identificationModule = study.get('protocolSection', {}).get('identificationModule', {})\n",
    "                sponsorCollaboratorsModule = study.get('protocolSection', {}).get('sponsorCollaboratorsModule', {})\n",
    "                descriptionModule = study.get('protocolSection', {}).get('descriptionModule', {})\n",
    "                designModule = study.get('protocolSection', {}).get('designModule', {})\n",
    "                contactsLocationsModule = study.get('protocolSection', {}).get('contactsLocationsModule', {})\n",
    "\n",
    "                extracted_trial = {\n",
    "                    \"nctId\": identificationModule.get(\"nctId\"),\n",
    "                    \"description\": descriptionModule.get(\"briefSummary\"),\n",
    "                    \"lead_sponsor\": sponsorCollaboratorsModule.get(\"leadSponsor\", {}).get(\"name\"),\n",
    "                    \"collaborators\": [collaborator.get(\"name\") for collaborator in sponsorCollaboratorsModule.get(\"collaborators\", [])],\n",
    "                    \"study_type\": designModule.get(\"studyType\"),\n",
    "                    \"location_count\": len(contactsLocationsModule.get(\"locations\", [])),\n",
    "                }\n",
    "                trials.append(extracted_trial)\n",
    "            return trials\n",
    "        else:\n",
    "            print(f\"Request failed with status code: {response.status_code}\")\n",
    "            return None\n",
    "    except requests.RequestException as e:\n",
    "        print(f\"Request exception occurred: {e}\")\n",
    "        return None"
   ]
  },
  {
   "cell_type": "code",
   "execution_count": 20,
   "metadata": {},
   "outputs": [
    {
     "name": "stdout",
     "output_type": "stream",
     "text": [
      "Study count: 30\n"
     ]
    }
   ],
   "source": [
    "df = load_trial_outcome_data(phase='III', split='test')['data']\n",
    "\n",
    "test_data = TrialOutcomeDatasetBase(df).data\n",
    "\n",
    "successful_trials = test_data[test_data['label']\n",
    "                           == 1].sample(n=limit//2, random_state=42)\n",
    "failed_trials = test_data[test_data['label']\n",
    "                           == 0].sample(n=limit - limit//2, random_state=42)\n",
    "\n",
    "test_data = pd.concat(\n",
    "    [successful_trials, failed_trials]).sample(frac=1, random_state=42)\n",
    "\n",
    "nct_ids = test_data['nctid'].unique().tolist()\n",
    "augmented_data = get_nct_data(nct_ids)\n",
    "augmented_df = pd.DataFrame(augmented_data)\n",
    "test_data = test_data.merge(augmented_df, left_on='nctid', right_on='nctId', how='left')\n",
    "\n",
    "remaining_data = test_data[~test_data.index.isin(test_data.index)]\n",
    "\n",
    "outcomes = test_data[['nctid', 'label', 'why_stop', 'status']]\n",
    "test_data.drop(['smiless', 'label', 'why_stop',\n",
    "               'study_first_submitted_date', 'nctid', 'status'], axis=1, inplace=True)\n",
    "\n",
    "serialized_trials = test_data.apply(serialize_row, axis=1)"
   ]
  },
  {
   "cell_type": "code",
   "execution_count": 22,
   "metadata": {},
   "outputs": [
    {
     "name": "stderr",
     "output_type": "stream",
     "text": [
      "30it [35:11, 70.37s/it]\n"
     ]
    }
   ],
   "source": [
    "with open(\"prompts.json\", \"r\") as file:\n",
    "    prompts = json.load(file)\n",
    "\n",
    "prompt = prompts['templates']['subtasks+clinical_knowledge']\n",
    "\n",
    "base_messages = prompt['base_messages']\n",
    "summary_prompt = prompt['summary_prompt']\n",
    "tool_data = prompt['tool_data']\n",
    "questions = prompt['questions']\n",
    "\n",
    "\n",
    "with open(f\"{results_folder}/{results_file}\", \"w\") as file:\n",
    "    json.dump([], file)\n",
    "\n",
    "def process_trial(trial, outcome):\n",
    "    idx, outcome = outcome\n",
    "    \n",
    "    try:\n",
    "        res = pipe_qa_chat(\n",
    "            trial, base_messages, summary_prompt, model, tool_data, questions)\n",
    "\n",
    "        response = json.loads(res) if isinstance(res, str) else res\n",
    "        response['ground_truth'] = \"success\" if outcome.get(\n",
    "            'label') == 1 else \"failure\"\n",
    "        response['nctid'] = outcome.get('nctid')\n",
    "        if str(outcome[\"why_stop\"]).lower() != \"nan\":\n",
    "            response[\"fail_reason\"] = outcome[\"why_stop\"] \n",
    "\n",
    "        with open(f\"{results_folder}/{results_file}\", \"r+\") as file:\n",
    "            file_data = json.load(file)\n",
    "            file_data.append(response)\n",
    "            file.seek(0)\n",
    "            json.dump(file_data, file, indent=4)\n",
    "            file.truncate()\n",
    "\n",
    "    except Exception as e:\n",
    "        print(f\"Error processing trial {outcome.get('nctid', 'Unknown')}: {e}\")\n",
    "        log_error(e, outcome)\n",
    "\n",
    "\n",
    "def log_error(exception, outcome):\n",
    "    error_message = {\n",
    "        \"trial_id\": outcome.get('nctid', 'unknown'),\n",
    "        \"error\": str(exception),\n",
    "        \"stack_trace\": traceback.format_exc(),\n",
    "        \"time\": datetime.now().isoformat()\n",
    "    }\n",
    "\n",
    "    with open(f\"{results_folder}/error_log.json\", \"a+\") as error_file:\n",
    "        error_file.seek(0)\n",
    "        try:\n",
    "            errors = json.load(error_file)\n",
    "        except json.JSONDecodeError:\n",
    "            errors = []\n",
    "        errors.append(error_message)\n",
    "        error_file.seek(0)\n",
    "        json.dump(errors, error_file, indent=4)\n",
    "        error_file.truncate()\n",
    "\n",
    "for trial, outcome in tqdm(zip(serialized_trials[:limit], outcomes.iterrows())):\n",
    "    process_trial(trial, outcome)"
   ]
  },
  {
   "cell_type": "code",
   "execution_count": 23,
   "metadata": {},
   "outputs": [
    {
     "name": "stdout",
     "output_type": "stream",
     "text": [
      "{'Acc': 0.6, 'F1': 0.7142857142857143, 'Precision': 0.5555555555555556, 'Recall': 1.0, 'ROC-AUC': 0.6, 'PR-AUC': 0.5555555555555556, 'Specificity': 0.2}\n"
     ]
    }
   ],
   "source": [
    "preds = pd.read_json(f\"{results_folder}/{results_file}\")\n",
    "\n",
    "preds['prediction'] = preds['prediction'].apply(\n",
    "    lambda x: 'failure' if x != 'success' else 'success')\n",
    "preds['ground_truth'] = preds['ground_truth'].apply(\n",
    "    lambda x: 'failure' if x != 'success' else 'success')\n",
    "\n",
    "le = LabelEncoder()\n",
    "y_true = le.fit_transform(preds['ground_truth'])\n",
    "y_pred = le.transform(preds['prediction'])\n",
    "\n",
    "\n",
    "def calculate_metrics(y_true, y_pred):\n",
    "    metrics = {}\n",
    "    metrics['Acc'] = accuracy_score(y_true, y_pred)\n",
    "    metrics['F1'] = f1_score(y_true, y_pred)\n",
    "    metrics['Precision'] = precision_score(y_true, y_pred)\n",
    "    metrics['Recall'] = recall_score(y_true, y_pred)\n",
    "    metrics['ROC-AUC'] = roc_auc_score(y_true, y_pred)\n",
    "    metrics['PR-AUC'] = average_precision_score(y_true, y_pred)\n",
    "    tn, fp, fn, tp = confusion_matrix(y_true, y_pred).ravel()\n",
    "    metrics['Specificity'] = tn / (tn + fp)\n",
    "\n",
    "    return metrics\n",
    "\n",
    "\n",
    "metrics = calculate_metrics(y_true, y_pred)\n",
    "print(metrics)"
   ]
  },
  {
   "cell_type": "code",
   "execution_count": 26,
   "metadata": {},
   "outputs": [
    {
     "data": {
      "image/png": "[encoded data removed]",
      "text/plain": [
       "<Figure size 640x480 with 2 Axes>"
      ]
     },
     "metadata": {},
     "output_type": "display_data"
    }
   ],
   "source": [
    "# Calculate confusion matrix\n",
    "cm = confusion_matrix(y_true, y_pred)\n",
    "sns.heatmap(cm, annot=True, fmt='d', cmap='Blues')\n",
    "plt.xlabel('Predicted')\n",
    "plt.ylabel('True')\n",
    "plt.title('Confusion Matrix')\n",
    "plt.show()"
   ]
  },
  {
   "cell_type": "code",
   "execution_count": 25,
   "metadata": {},
   "outputs": [
    {
     "data": {
      "image/png": "[encoded data removed]",
      "text/plain": [
       "<Figure size 640x480 with 1 Axes>"
      ]
     },
     "metadata": {},
     "output_type": "display_data"
    }
   ],
   "source": [
    "fpr, tpr, thresholds = roc_curve(y_true, y_pred)\n",
    "roc_auc = auc(fpr, tpr)\n",
    "\n",
    "plt.figure()\n",
    "plt.plot(fpr, tpr, color='darkorange', lw=2,\n",
    "         label='ROC curve (area = %0.2f)' % roc_auc)\n",
    "plt.plot([0, 1], [0, 1], color='navy', lw=2, linestyle='--')\n",
    "plt.xlim([0.0, 1.0])\n",
    "plt.ylim([0.0, 1.05])\n",
    "plt.xlabel('False Positive Rate')\n",
    "plt.ylabel('True Positive Rate')\n",
    "plt.title('Receiver Operating Characteristic')\n",
    "plt.legend(loc=\"lower right\")\n",
    "plt.show()"
   ]
  }
 ],
 "metadata": {
  "kernelspec": {
   "display_name": ".venv",
   "language": "python",
   "name": "python3"
  },
  "language_info": {
   "codemirror_mode": {
    "name": "ipython",
    "version": 3
   },
   "file_extension": ".py",
   "mimetype": "text/x-python",
   "name": "python",
   "nbconvert_exporter": "python",
   "pygments_lexer": "ipython3",
   "version": "3.9.0"
  }
 },
 "nbformat": 4,
 "nbformat_minor": 2
}
