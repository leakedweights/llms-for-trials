{
 "cells": [
  {
   "cell_type": "code",
   "execution_count": 41,
   "id": "be20385d-febb-46b8-9701-3fe15797fb9b",
   "metadata": {},
   "outputs": [],
   "source": [
    "import ast\n",
    "import pandas as pd\n",
    "\n",
    "data_dir = \"./data\"\n",
    "\n",
    "train_file = f\"{data_dir}/smiles_train.csv\"\n",
    "valid_file = f\"{data_dir}/smiles_valid.csv\"\n",
    "test_file = f\"{data_dir}/smiles_test.csv\"\n",
    "\n",
    "p1_train = pd.read_csv(f\"{data_dir}/phase_I_train.csv\")\n",
    "p2_train = pd.read_csv(f\"{data_dir}/phase_II_train.csv\")\n",
    "p3_train = pd.read_csv(f\"{data_dir}/phase_III_train.csv\")\n",
    "\n",
    "p1_test = pd.read_csv(f\"{data_dir}/phase_I_test.csv\")\n",
    "p2_test = pd.read_csv(f\"{data_dir}/phase_II_test.csv\")\n",
    "p3_test = pd.read_csv(f\"{data_dir}/phase_III_test.csv\")\n",
    "\n",
    "p1_valid = pd.read_csv(f\"{data_dir}/phase_I_valid.csv\")\n",
    "p2_valid = pd.read_csv(f\"{data_dir}/phase_II_valid.csv\")\n",
    "p3_valid = pd.read_csv(f\"{data_dir}/phase_III_valid.csv\")\n",
    "\n",
    "merged_train = pd.concat([p1_train[\"smiless\"], p2_train[\"smiless\"], p3_train[\"smiless\"]], axis=0)\n",
    "merged_train.reset_index(drop=True, inplace=True)\n",
    "\n",
    "merged_test = pd.concat([p1_test[\"smiless\"], p2_test[\"smiless\"], p3_test[\"smiless\"]], axis=0)\n",
    "merged_test.reset_index(drop=True, inplace=True)\n",
    "\n",
    "merged_valid = pd.concat([p1_valid[\"smiless\"], p2_valid[\"smiless\"], p3_valid[\"smiless\"]], axis=0)\n",
    "merged_valid.reset_index(drop=True, inplace=True)\n",
    "\n",
    "def explode_list(row):\n",
    "    smiles_list = ast.literal_eval(row)\n",
    "    return smiles_list\n",
    "\n",
    "exploded_train = merged_train.apply(explode_list).explode().reset_index(drop=True)\n",
    "exploded_test = merged_test.apply(explode_list).explode().reset_index(drop=True)\n",
    "exploded_valid = merged_valid.apply(explode_list).explode().reset_index(drop=True)\n",
    "\n",
    "exploded_train.to_csv(train_file, index=False, header=False)\n",
    "exploded_test.to_csv(test_file, index=False, header=False)\n",
    "exploded_valid.to_csv(valid_file, index=False, header=False)"
   ]
  },
  {
   "cell_type": "code",
   "execution_count": 15,
   "id": "b8ae6755-73dd-43ce-91fd-83b7fe20f738",
   "metadata": {},
   "outputs": [
    {
     "name": "stdout",
     "output_type": "stream",
     "text": [
      "[Errno 2] No such file or directory: './toxicity/multitask-toxicity/SE_featurization'\n",
      "/home/varadi_kristof/llms-for-trials/src/hint/toxicity/multitask-toxicity/SE_featurization\n",
      "ArgumentParser(prog='save_embeddings.py', usage=None, description=None, formatter_class=<class 'argparse.HelpFormatter'>, conflict_handler='error', add_help=True)\n",
      "Namespace(config_load='models/config.nb', device='cuda', input_file='../../../data/smiles_train.csv', model='translation', model_load='models/model.pt', n_batch=65, output_file='../../../data/smiles_embed_train.pt', vocab_load='models/vocab.nb')\n",
      "Model loaded.\n",
      "Calculating Embeddings..\n",
      "100%|█████████████████████████████████████████| 126/126 [03:21<00:00,  1.60s/it]\n",
      "ArgumentParser(prog='save_embeddings.py', usage=None, description=None, formatter_class=<class 'argparse.HelpFormatter'>, conflict_handler='error', add_help=True)\n",
      "Namespace(config_load='models/config.nb', device='cuda', input_file='../../../data/smiles_test.csv', model='translation', model_load='models/model.pt', n_batch=65, output_file='../../../data/smiles_embed_test.pt', vocab_load='models/vocab.nb')\n",
      "Model loaded.\n",
      "Calculating Embeddings..\n",
      "100%|███████████████████████████████████████████| 53/53 [01:21<00:00,  1.53s/it]\n",
      "ArgumentParser(prog='save_embeddings.py', usage=None, description=None, formatter_class=<class 'argparse.HelpFormatter'>, conflict_handler='error', add_help=True)\n",
      "Namespace(config_load='models/config.nb', device='cuda', input_file='../../../data/smiles_valid.csv', model='translation', model_load='models/model.pt', n_batch=65, output_file='../../../data/smiles_embed_valid.pt', vocab_load='models/vocab.nb')\n",
      "Model loaded.\n",
      "Calculating Embeddings..\n",
      "100%|███████████████████████████████████████████| 14/14 [00:24<00:00,  1.77s/it]\n"
     ]
    }
   ],
   "source": [
    "%cd ./toxicity/multitask-toxicity/SE_featurization\n",
    "!python -m scripts.save_embeddings --input_file ../../../data/smiles_train.csv  --output_file ../../../data/smiles_embed_train.pt --model translation --device cuda --model_load models/model.pt --vocab_load models/vocab.nb --config_load models/config.nb --n_batch 65\n",
    "!python -m scripts.save_embeddings --input_file ../../../data/smiles_test.csv  --output_file ../../../data/smiles_embed_test.pt --model translation --device cuda --model_load models/model.pt --vocab_load models/vocab.nb --config_load models/config.nb --n_batch 65\n",
    "!python -m scripts.save_embeddings --input_file ../../../data/smiles_valid.csv  --output_file ../../../data/smiles_embed_valid.pt --model translation --device cuda --model_load models/model.pt --vocab_load models/vocab.nb --config_load models/config.nb --n_batch 65"
   ]
  }
 ],
 "metadata": {
  "kernelspec": {
   "display_name": "Python 3 (ipykernel)",
   "language": "python",
   "name": "python3"
  },
  "language_info": {
   "codemirror_mode": {
    "name": "ipython",
    "version": 3
   },
   "file_extension": ".py",
   "mimetype": "text/x-python",
   "name": "python",
   "nbconvert_exporter": "python",
   "pygments_lexer": "ipython3",
   "version": "3.7.16"
  }
 },
 "nbformat": 4,
 "nbformat_minor": 5
}
