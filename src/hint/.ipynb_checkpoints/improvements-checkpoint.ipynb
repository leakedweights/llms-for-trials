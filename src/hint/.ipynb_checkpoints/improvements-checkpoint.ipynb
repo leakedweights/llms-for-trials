{
 "cells": [
  {
   "cell_type": "code",
   "execution_count": 34,
   "metadata": {},
   "outputs": [],
   "source": [
    "%load_ext autoreload\n",
    "%autoreload 2"
   ]
  },
  {
   "cell_type": "code",
   "execution_count": 213,
   "metadata": {
    "tags": []
   },
   "outputs": [],
   "source": [
    "import os\n",
    "import torch\n",
    "import warnings;\n",
    "\n",
    "from HINT.dataloader import csv_three_feature_2_dataloader, generate_admet_dataloader_lst\n",
    "from HINT.molecule_encode import MPNN, ADMET \n",
    "from HINT.icdcode_encode import GRAM, build_icdcode2ancestor_dict\n",
    "from HINT.protocol.model import ProtocolEmbedding\n",
    "from HINT.simple import TrialModel, Trainer"
   ]
  },
  {
   "cell_type": "code",
   "execution_count": 214,
   "metadata": {},
   "outputs": [],
   "source": [
    "warnings.filterwarnings(\"ignore\")\n",
    "torch.manual_seed(0) \n",
    "device = torch.device(\"cuda:0\")\n",
    "if not os.path.exists(\"figure\"):\n",
    "\tos.makedirs(\"figure\")"
   ]
  },
  {
   "cell_type": "code",
   "execution_count": 215,
   "metadata": {},
   "outputs": [],
   "source": [
    "phase = 'phase_III'\n",
    "model_name = 'improved_model'\n",
    "datafolder = \"data\"\n",
    "train_file = os.path.join(datafolder, phase + '_train.csv')\n",
    "valid_file = os.path.join(datafolder, phase + '_valid.csv')\n",
    "test_file = os.path.join(datafolder, phase + '_test.csv')"
   ]
  },
  {
   "cell_type": "code",
   "execution_count": 216,
   "metadata": {},
   "outputs": [],
   "source": [
    "mpnn_model = MPNN(mpnn_hidden_size = 50, mpnn_depth=3, device = device)\n",
    "admet_model_path = \"save_model/admet_model.ckpt\"\n",
    "if not os.path.exists(admet_model_path):\n",
    "\tadmet_dataloader_lst = generate_admet_dataloader_lst(batch_size=32)\n",
    "\tadmet_trainloader_lst = [i[0] for i in admet_dataloader_lst]\n",
    "\tadmet_testloader_lst = [i[1] for i in admet_dataloader_lst]\n",
    "\tadmet_model = ADMET(molecule_encoder = mpnn_model, \n",
    "\t\t\t\t\t\thighway_num=2, \n",
    "\t\t\t\t\t\tdevice = device, \n",
    "\t\t\t\t\t\tepoch=3, \n",
    "\t\t\t\t\t\tlr=5e-4, \n",
    "\t\t\t\t\t\tweight_decay=0, \n",
    "\t\t\t\t\t\tsave_name = 'admet_')\n",
    "\tadmet_model.train(admet_trainloader_lst, admet_testloader_lst)\n",
    "\ttorch.save(admet_model, admet_model_path)\n",
    "else:\n",
    "\tadmet_model = torch.load(admet_model_path)\n",
    "\tadmet_model = admet_model.to(device)\n",
    "\tadmet_model.set_device(device)"
   ]
  },
  {
   "cell_type": "code",
   "execution_count": 217,
   "metadata": {},
   "outputs": [],
   "source": [
    "train_loader = csv_three_feature_2_dataloader(train_file, shuffle=True, batch_size=32) \n",
    "valid_loader = csv_three_feature_2_dataloader(valid_file, shuffle=False, batch_size=32) \n",
    "test_loader = csv_three_feature_2_dataloader(test_file, shuffle=False, batch_size=32) "
   ]
  },
  {
   "cell_type": "code",
   "execution_count": 218,
   "metadata": {},
   "outputs": [],
   "source": [
    "icdcode2ancestor_dict = build_icdcode2ancestor_dict()\n",
    "gram_model = GRAM(embedding_dim = 50, icdcode2ancestor = icdcode2ancestor_dict, device = device)\n",
    "protocol_model = ProtocolEmbedding(output_dim = 50, highway_num=3, device = device)"
   ]
  },
  {
   "cell_type": "code",
   "execution_count": 219,
   "metadata": {
    "tags": []
   },
   "outputs": [],
   "source": [
    "hint_model_path = f\"save_model/{model_name}.ckpt\"\n",
    "\n",
    " model = TrialModel(\n",
    "                 molecule_encoder = admet_model.molecule_encoder, \n",
    "                 disease_encoder = gram_model, \n",
    "                 protocol_encoder = protocol_model,\n",
    "                 embedding_size = 50, \n",
    "                 num_ffn_layers=3,\n",
    "                 num_pred_layers=5,\n",
    "                 name=model_name)"
   ]
  },
  {
   "cell_type": "code",
   "execution_count": 221,
   "metadata": {},
   "outputs": [],
   "source": [
    "trainer = Trainer(model, lr=1e-3, weight_decay=0, device=device)"
   ]
  },
  {
   "cell_type": "code",
   "execution_count": 224,
   "metadata": {
    "tags": []
   },
   "outputs": [
    {
     "name": "stderr",
     "output_type": "stream",
     "text": [
      "100%|█████████████████████████████████████████████████████████████████████████████████████████████| 5/5 [06:17<00:00, 75.41s/it]\n"
     ]
    },
    {
     "name": "stdout",
     "output_type": "stream",
     "text": [
      "--------------------------------------------------\n",
      "Accuracy: 0.687, TP: 631, FP:131, TN:156, FN:228\n",
      "F1-Score: 0.779\n",
      "ROC-AUC: 0.639\n",
      "PR-AUC: 0.881\n",
      "--------------------------------------------------\n"
     ]
    }
   ],
   "source": [
    "num_epochs = 3\n",
    "metrics = trainer.train(num_epochs, train_loader, valid_loader, test_loader)\n",
    "\n",
    "test_results = trainer.test(test_loader)\n",
    "torch.save(model, hint_model_path)"
   ]
  },
  {
   "cell_type": "code",
   "execution_count": 223,
   "metadata": {
    "tags": []
   },
   "outputs": [
    {
     "name": "stdout",
     "output_type": "stream",
     "text": [
      "PR_AUC - mean: 0.8743, std: 0.0089\n",
      "F1 - mean: 0.7833, std: 0.0095\n",
      "ROC_AUC - mean: 0.6487, std: 0.0143\n",
      "ACCURACY - mean: 0.6930, std: 0.0105\n"
     ]
    },
    {
     "data": {
      "text/plain": [
       "{'pr_auc': [0.8719873063893295,\n",
       "  0.8844379751263312,\n",
       "  0.869645628095402,\n",
       "  0.8610018473091201,\n",
       "  0.8761112058547952,\n",
       "  0.8558318311186806,\n",
       "  0.8791107528957044,\n",
       "  0.8790084841280343,\n",
       "  0.8883907318166265,\n",
       "  0.8819457093437804,\n",
       "  0.8568579478418812,\n",
       "  0.8716378382576917,\n",
       "  0.8684590883135863,\n",
       "  0.8781764964731984,\n",
       "  0.882865444358874,\n",
       "  0.8782530347355606,\n",
       "  0.8760434580265184,\n",
       "  0.8698476382256061,\n",
       "  0.8699937843877229,\n",
       "  0.8858841839137568],\n",
       " 'f1': [0.7807288449660283,\n",
       "  0.7906137184115523,\n",
       "  0.7912885662431942,\n",
       "  0.7781269641734758,\n",
       "  0.7928358208955224,\n",
       "  0.7665816326530612,\n",
       "  0.7854103343465046,\n",
       "  0.7864615384615384,\n",
       "  0.7844092570036542,\n",
       "  0.7948717948717949,\n",
       "  0.7640866873065015,\n",
       "  0.7839699436443333,\n",
       "  0.7789605510331872,\n",
       "  0.7761557177615571,\n",
       "  0.7951807228915662,\n",
       "  0.7954971857410881,\n",
       "  0.7695190505933791,\n",
       "  0.7845303867403316,\n",
       "  0.7729591836734694,\n",
       "  0.7929782082324456],\n",
       " 'roc_auc': [0.6496544444223147,\n",
       "  0.649074074074074,\n",
       "  0.6387132317715819,\n",
       "  0.6420613509192646,\n",
       "  0.633029528208512,\n",
       "  0.6433214585316124,\n",
       "  0.644450474898236,\n",
       "  0.655002845991218,\n",
       "  0.6528787019858449,\n",
       "  0.6606810234959641,\n",
       "  0.6132645655613853,\n",
       "  0.6579105332538213,\n",
       "  0.6533795626876949,\n",
       "  0.6302068983057314,\n",
       "  0.656582513193553,\n",
       "  0.6803538354684364,\n",
       "  0.6516939674490154,\n",
       "  0.6402123055795087,\n",
       "  0.6735598980458793,\n",
       "  0.6481393564576772],\n",
       " 'accuracy': [0.6902268760907504,\n",
       "  0.6963350785340314,\n",
       "  0.6989528795811518,\n",
       "  0.6919720767888308,\n",
       "  0.6972076788830716,\n",
       "  0.680628272251309,\n",
       "  0.6919720767888308,\n",
       "  0.6972076788830716,\n",
       "  0.6910994764397905,\n",
       "  0.7068062827225131,\n",
       "  0.6675392670157068,\n",
       "  0.6989528795811518,\n",
       "  0.6919720767888308,\n",
       "  0.6788830715532286,\n",
       "  0.7033158813263525,\n",
       "  0.7146596858638743,\n",
       "  0.6780104712041884,\n",
       "  0.693717277486911,\n",
       "  0.6893542757417103,\n",
       "  0.7015706806282722]}"
      ]
     },
     "execution_count": 223,
     "metadata": {},
     "output_type": "execute_result"
    }
   ],
   "source": [
    "results = trainer.bootstrap_test(test_loader)"
   ]
  },
  {
   "cell_type": "code",
   "execution_count": 19,
   "metadata": {},
   "outputs": [
    {
     "name": "stdout",
     "output_type": "stream",
     "text": [
      "Counter({1: 975, 0: 171})\n"
     ]
    }
   ],
   "source": [
    "from collections import Counter\n",
    "predictions = [0 if pred < 0.5 else 1 for pred in predict_all]\n",
    "prediction_counts = Counter(predictions)\n",
    "\n",
    "print(prediction_counts)\n"
   ]
  }
 ],
 "metadata": {
  "kernelspec": {
   "display_name": "Python 3 (ipykernel)",
   "language": "python",
   "name": "python3"
  },
  "language_info": {
   "codemirror_mode": {
    "name": "ipython",
    "version": 3
   },
   "file_extension": ".py",
   "mimetype": "text/x-python",
   "name": "python",
   "nbconvert_exporter": "python",
   "pygments_lexer": "ipython3",
   "version": "3.7.16"
  }
 },
 "nbformat": 4,
 "nbformat_minor": 4
}
