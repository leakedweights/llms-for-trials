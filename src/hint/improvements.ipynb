{
 "cells": [
  {
   "cell_type": "code",
   "execution_count": 2,
   "metadata": {},
   "outputs": [],
   "source": [
    "%load_ext autoreload\n",
    "%autoreload 2"
   ]
  },
  {
   "cell_type": "code",
   "execution_count": 3,
   "metadata": {
    "tags": []
   },
   "outputs": [],
   "source": [
    "import os\n",
    "import torch\n",
    "import warnings;\n",
    "\n",
    "from HINT.dataloader import csv_three_feature_2_dataloader, generate_admet_dataloader_lst\n",
    "from HINT.molecule_encode import MPNN, ADMET \n",
    "from HINT.icdcode_encode import GRAM, build_icdcode2ancestor_dict\n",
    "from HINT.protocol.model import ProtocolEmbedding\n",
    "from HINT.simple import TrialModel, Trainer"
   ]
  },
  {
   "cell_type": "code",
   "execution_count": 4,
   "metadata": {},
   "outputs": [],
   "source": [
    "warnings.filterwarnings(\"ignore\")\n",
    "torch.manual_seed(0) \n",
    "device = torch.device(\"cuda:0\")\n",
    "if not os.path.exists(\"figure\"):\n",
    "\tos.makedirs(\"figure\")"
   ]
  },
  {
   "cell_type": "code",
   "execution_count": 5,
   "metadata": {},
   "outputs": [],
   "source": [
    "phase = 'phase_III'\n",
    "model_name = 'improved_model'\n",
    "datafolder = \"data\"\n",
    "train_file = os.path.join(datafolder, phase + '_train.csv')\n",
    "valid_file = os.path.join(datafolder, phase + '_valid.csv')\n",
    "test_file = os.path.join(datafolder, phase + '_test.csv')"
   ]
  },
  {
   "cell_type": "code",
   "execution_count": 6,
   "metadata": {},
   "outputs": [],
   "source": [
    "mpnn_model = MPNN(mpnn_hidden_size = 50, mpnn_depth=3, device = device)\n",
    "admet_model_path = \"save_model/admet_model.ckpt\"\n",
    "if not os.path.exists(admet_model_path):\n",
    "\tadmet_dataloader_lst = generate_admet_dataloader_lst(batch_size=32)\n",
    "\tadmet_trainloader_lst = [i[0] for i in admet_dataloader_lst]\n",
    "\tadmet_testloader_lst = [i[1] for i in admet_dataloader_lst]\n",
    "\tadmet_model = ADMET(molecule_encoder = mpnn_model, \n",
    "\t\t\t\t\t\thighway_num=2, \n",
    "\t\t\t\t\t\tdevice = device, \n",
    "\t\t\t\t\t\tepoch=3, \n",
    "\t\t\t\t\t\tlr=5e-4, \n",
    "\t\t\t\t\t\tweight_decay=0, \n",
    "\t\t\t\t\t\tsave_name = 'admet_')\n",
    "\tadmet_model.train(admet_trainloader_lst, admet_testloader_lst)\n",
    "\ttorch.save(admet_model, admet_model_path)\n",
    "else:\n",
    "\tadmet_model = torch.load(admet_model_path)\n",
    "\tadmet_model = admet_model.to(device)\n",
    "\tadmet_model.set_device(device)"
   ]
  },
  {
   "cell_type": "code",
   "execution_count": 7,
   "metadata": {},
   "outputs": [],
   "source": [
    "train_loader = csv_three_feature_2_dataloader(train_file, shuffle=True, batch_size=32) \n",
    "valid_loader = csv_three_feature_2_dataloader(valid_file, shuffle=False, batch_size=32) \n",
    "test_loader = csv_three_feature_2_dataloader(test_file, shuffle=False, batch_size=32) "
   ]
  },
  {
   "cell_type": "code",
   "execution_count": 8,
   "metadata": {},
   "outputs": [],
   "source": [
    "icdcode2ancestor_dict = build_icdcode2ancestor_dict()\n",
    "gram_model = GRAM(embedding_dim = 50, icdcode2ancestor = icdcode2ancestor_dict, device = device)\n",
    "protocol_model = ProtocolEmbedding(output_dim = 50, highway_num=3, device = device)"
   ]
  },
  {
   "cell_type": "code",
   "execution_count": 12,
   "metadata": {
    "tags": []
   },
   "outputs": [],
   "source": [
    "hint_model_path = f\"save_model/{model_name}.ckpt\"\n",
    "\n",
    "model = TrialModel(\n",
    "             molecule_encoder = admet_model.molecule_encoder, \n",
    "             disease_encoder = gram_model, \n",
    "             protocol_encoder = protocol_model,\n",
    "             embedding_size = 50, \n",
    "             num_ffn_layers=2,\n",
    "             num_pred_layers=3,\n",
    "             name=model_name)"
   ]
  },
  {
   "cell_type": "code",
   "execution_count": 13,
   "metadata": {},
   "outputs": [
    {
     "name": "stderr",
     "output_type": "stream",
     "text": [
      "100%|████████████████████████████████████████████████████████████████████████████████████████████| 3/3 [05:11<00:00, 103.98s/it]\n"
     ]
    }
   ],
   "source": [
    "trainer = Trainer(model, lr=1e-3, weight_decay=0, device=device)\n",
    "num_epochs = 3\n",
    "metrics = trainer.train(num_epochs, train_loader, valid_loader, test_loader)"
   ]
  },
  {
   "cell_type": "code",
   "execution_count": 15,
   "metadata": {
    "tags": []
   },
   "outputs": [
    {
     "name": "stdout",
     "output_type": "stream",
     "text": [
      "--------------------------------------------------\n",
      "Accuracy: 0.684, TP: 614, FP:117, TN:170, FN:245\n",
      "F1-Score: 0.772\n",
      "ROC-AUC: 0.654\n",
      "PR-AUC: 0.884\n",
      "--------------------------------------------------\n",
      "PR_AUC - mean: 0.8567, std: 0.0125\n",
      "F1 - mean: 0.8081, std: 0.0082\n",
      "ROC_AUC - mean: 0.6946, std: 0.0140\n",
      "ACCURACY - mean: 0.7171, std: 0.0113\n"
     ]
    }
   ],
   "source": [
    "test_results = trainer.test(test_loader)\n",
    "bootstrap_resultsresults = trainer.bootstrap_test(test_loader)\n",
    "torch.save(model, hint_model_path)"
   ]
  },
  {
   "cell_type": "code",
   "execution_count": 19,
   "metadata": {},
   "outputs": [
    {
     "name": "stdout",
     "output_type": "stream",
     "text": [
      "Counter({1: 975, 0: 171})\n"
     ]
    }
   ],
   "source": [
    "from collections import Counter\n",
    "predictions = [0 if pred < 0.5 else 1 for pred in predict_all]\n",
    "prediction_counts = Counter(predictions)\n",
    "\n",
    "print(prediction_counts)\n"
   ]
  }
 ],
 "metadata": {
  "kernelspec": {
   "display_name": "Python 3 (ipykernel)",
   "language": "python",
   "name": "python3"
  },
  "language_info": {
   "codemirror_mode": {
    "name": "ipython",
    "version": 3
   },
   "file_extension": ".py",
   "mimetype": "text/x-python",
   "name": "python",
   "nbconvert_exporter": "python",
   "pygments_lexer": "ipython3",
   "version": "3.7.16"
  }
 },
 "nbformat": 4,
 "nbformat_minor": 4
}
