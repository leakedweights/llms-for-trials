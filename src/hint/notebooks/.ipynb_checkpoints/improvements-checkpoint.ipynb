{
 "cells": [
  {
   "cell_type": "code",
   "execution_count": 1,
   "metadata": {},
   "outputs": [
    {
     "name": "stdout",
     "output_type": "stream",
     "text": [
      "/home/varadi_kristof/llms-for-trials/src/hint\n"
     ]
    }
   ],
   "source": [
    "%cd ../"
   ]
  },
  {
   "cell_type": "code",
   "execution_count": 2,
   "metadata": {},
   "outputs": [],
   "source": [
    "%load_ext autoreload\n",
    "%autoreload 2"
   ]
  },
  {
   "cell_type": "code",
   "execution_count": 5,
   "metadata": {
    "tags": []
   },
   "outputs": [],
   "source": [
    "import os\n",
    "import torch\n",
    "import ast\n",
    "import warnings;\n",
    "import pandas as pd\n",
    "\n",
    "from toxicity.model import MultitaskToxicityModel, load_ckp\n",
    "from trial.model import TrialModel, Trainer as TrialTrainer\n",
    "from trial.protocol import ProtocolEmbedding\n",
    "from trial.disease_encoder import GRAM, build_icdcode2ancestor_dict"
   ]
  },
  {
   "cell_type": "code",
   "execution_count": 6,
   "metadata": {},
   "outputs": [],
   "source": [
    "warnings.filterwarnings(\"ignore\")\n",
    "torch.manual_seed(0)\n",
    "device=torch.device(\"cuda:0\" if torch.cuda.is_available() else \"cpu\")"
   ]
  },
  {
   "cell_type": "code",
   "execution_count": 7,
   "metadata": {},
   "outputs": [],
   "source": [
    "data_dir = \"./data\"\n",
    "model_dir = \"./checkpoints/toxicity\"\n",
    "smiles_embedding_dir = \"toxicity/smiles_embedding\"\n",
    "\n",
    "smiles_embed_train = torch.load(f\"{data_dir}/{smiles_embedding_dir}/smiles_embed_train.pt\")\n",
    "smiles_embed_valid = torch.load(f\"{data_dir}/{smiles_embedding_dir}/smiles_embed_valid.pt\")\n",
    "smiles_embed_test = torch.load(f\"{data_dir}/{smiles_embedding_dir}/smiles_embed_test.pt\")\n",
    "\n",
    "smiles_embeddings = {**smiles_embed_train, **smiles_embed_valid, **smiles_embed_test}"
   ]
  },
  {
   "cell_type": "code",
   "execution_count": 8,
   "metadata": {},
   "outputs": [],
   "source": [
    "clintox_task = ['CT_TOX']\n",
    "tox21_tasks = ['NR-AR', 'NR-Aromatase', 'NR-PPAR-gamma', 'SR-HSE', \n",
    "               'NR-AR-LBD', 'NR-ER', 'SR-ARE', 'SR-MMP',\n",
    "               'NR-AhR', 'NR-ER-LBD', 'SR-ATAD5', 'SR-p53']\n",
    "\n",
    "all_tasks = tox21_tasks + clintox_task\n",
    "\n",
    "first_smiles = next(iter(smiles_embed_train.values()))\n",
    "input_shape = first_smiles.shape[0]\n",
    "\n",
    "model = MultitaskToxicityModel(input_shape, all_tasks).to(device)\n",
    "toxicity_model, _, _, _ = load_ckp(f\"{model_dir}/best_model_by_valid.pt\", model, None)"
   ]
  },
  {
   "cell_type": "code",
   "execution_count": 9,
   "metadata": {
    "tags": []
   },
   "outputs": [],
   "source": [
    "phase = 'phase_III'\n",
    "model_name = 'mtdnn_model'\n",
    "\n",
    "train_file = os.path.join(f\"{data_dir}/trial\", phase + '_train.csv')\n",
    "valid_file = os.path.join(f\"{data_dir}/trial\", phase + '_valid.csv')\n",
    "test_file = os.path.join(f\"{data_dir}/trial\", phase + '_test.csv')"
   ]
  },
  {
   "cell_type": "code",
   "execution_count": 10,
   "metadata": {},
   "outputs": [],
   "source": [
    "train_df = pd.read_csv(train_file)\n",
    "valid_df = pd.read_csv(valid_file)\n",
    "test_df = pd.read_csv(test_file)"
   ]
  },
  {
   "cell_type": "code",
   "execution_count": 11,
   "metadata": {},
   "outputs": [],
   "source": [
    "def explode_list(row):\n",
    "    smiles_list = ast.literal_eval(row)\n",
    "    return smiles_list\n",
    "\n",
    "def extract_smiles_embed(smiles_row: str):\n",
    "    smiles_list = explode_list(smiles_row)\n",
    "    embeddings = [smiles_embeddings.get(smiles, torch.zeros(input_shape)) for smiles in smiles_list]\n",
    "\n",
    "    if embeddings:\n",
    "        summed_embeddings = torch.stack(embeddings).sum(dim=0) # TODO: this is very primitive, some information loss is likely\n",
    "    else:\n",
    "        summed_embeddings = torch.zeros(input_shape)\n",
    "    return summed_embeddings"
   ]
  },
  {
   "cell_type": "code",
   "execution_count": 13,
   "metadata": {},
   "outputs": [
    {
     "name": "stderr",
     "output_type": "stream",
     "text": [
      "Some weights of the model checkpoint at emilyalsentzer/Bio_ClinicalBERT were not used when initializing BertModel: ['cls.predictions.transform.LayerNorm.weight', 'cls.predictions.bias', 'cls.predictions.decoder.weight', 'cls.seq_relationship.weight', 'cls.predictions.transform.dense.weight', 'cls.predictions.transform.LayerNorm.bias', 'cls.seq_relationship.bias', 'cls.predictions.transform.dense.bias']\n",
      "- This IS expected if you are initializing BertModel from the checkpoint of a model trained on another task or with another architecture (e.g. initializing a BertForSequenceClassification model from a BertForPreTraining model).\n",
      "- This IS NOT expected if you are initializing BertModel from the checkpoint of a model that you expect to be exactly identical (initializing a BertForSequenceClassification model from a BertForSequenceClassification model).\n"
     ]
    }
   ],
   "source": [
    "icdcode2ancestor_dict = build_icdcode2ancestor_dict()\n",
    "gram_model = GRAM(embedding_dim = 50, icdcode2ancestor = icdcode2ancestor_dict).to(device)\n",
    "protocol_model = ProtocolEmbedding(output_dim=50, hidden_dim=50, num_layers=3, hf_model=\"emilyalsentzer/Bio_ClinicalBERT\").to(device)"
   ]
  },
  {
   "cell_type": "code",
   "execution_count": null,
   "metadata": {},
   "outputs": [],
   "source": [
    "def trial_collate_fn(inputs):\n",
    "    inputs[\"smiless\"] = extract_smiless_embed(inputs[\"smiless\"])\n",
    "    inputs[\"criteria\"] = protocol_model.tokenizer(inputs[\"criteria\"])\n",
    "    \n",
    "    return inputs"
   ]
  },
  {
   "cell_type": "code",
   "execution_count": 14,
   "metadata": {
    "tags": []
   },
   "outputs": [],
   "source": [
    "hint_model_path = f\"./checkpoints/{model_name}.ckpt\"\n",
    "\n",
    "model = TrialModel(\n",
    "             toxicity_encoder = toxicity_model, \n",
    "             disease_encoder = gram_model, \n",
    "             protocol_encoder = protocol_model,\n",
    "             embedding_size = 50, \n",
    "             num_ffn_layers=2,\n",
    "             num_pred_layers=3,\n",
    "             name=model_name)"
   ]
  },
  {
   "cell_type": "code",
   "execution_count": 15,
   "metadata": {},
   "outputs": [
    {
     "ename": "NameError",
     "evalue": "name 'train_loader' is not defined",
     "output_type": "error",
     "traceback": [
      "\u001b[0;31m---------------------------------------------------------------------------\u001b[0m",
      "\u001b[0;31mNameError\u001b[0m                                 Traceback (most recent call last)",
      "\u001b[0;32m/tmp/ipykernel_38174/1468177841.py\u001b[0m in \u001b[0;36m<module>\u001b[0;34m\u001b[0m\n\u001b[1;32m      1\u001b[0m \u001b[0mtrainer\u001b[0m \u001b[0;34m=\u001b[0m \u001b[0mTrialTrainer\u001b[0m\u001b[0;34m(\u001b[0m\u001b[0mmodel\u001b[0m\u001b[0;34m,\u001b[0m \u001b[0mlr\u001b[0m\u001b[0;34m=\u001b[0m\u001b[0;36m1e-3\u001b[0m\u001b[0;34m,\u001b[0m \u001b[0mweight_decay\u001b[0m\u001b[0;34m=\u001b[0m\u001b[0;36m0\u001b[0m\u001b[0;34m,\u001b[0m \u001b[0mdevice\u001b[0m\u001b[0;34m=\u001b[0m\u001b[0mdevice\u001b[0m\u001b[0;34m)\u001b[0m\u001b[0;34m\u001b[0m\u001b[0;34m\u001b[0m\u001b[0m\n\u001b[1;32m      2\u001b[0m \u001b[0mnum_epochs\u001b[0m \u001b[0;34m=\u001b[0m \u001b[0;36m5\u001b[0m\u001b[0;34m\u001b[0m\u001b[0;34m\u001b[0m\u001b[0m\n\u001b[0;32m----> 3\u001b[0;31m \u001b[0mmetrics\u001b[0m \u001b[0;34m=\u001b[0m \u001b[0mtrainer\u001b[0m\u001b[0;34m.\u001b[0m\u001b[0mtrain\u001b[0m\u001b[0;34m(\u001b[0m\u001b[0mnum_epochs\u001b[0m\u001b[0;34m,\u001b[0m \u001b[0mtrain_loader\u001b[0m\u001b[0;34m,\u001b[0m \u001b[0mvalid_loader\u001b[0m\u001b[0;34m,\u001b[0m \u001b[0mtest_loader\u001b[0m\u001b[0;34m)\u001b[0m\u001b[0;34m\u001b[0m\u001b[0;34m\u001b[0m\u001b[0m\n\u001b[0m",
      "\u001b[0;31mNameError\u001b[0m: name 'train_loader' is not defined"
     ]
    }
   ],
   "source": [
    "trainer = TrialTrainer(model, lr=1e-3, weight_decay=0, device=device)\n",
    "num_epochs = 5\n",
    "metrics = trainer.train(num_epochs, train_loader, valid_loader, test_loader)"
   ]
  },
  {
   "cell_type": "code",
   "execution_count": null,
   "metadata": {
    "tags": []
   },
   "outputs": [],
   "source": [
    "test_results = trainer.test(test_loader)\n",
    "bootstrap_results = trainer.bootstrap_test(test_loader)\n",
    "torch.save(model, hint_model_path)"
   ]
  },
  {
   "cell_type": "code",
   "execution_count": null,
   "metadata": {},
   "outputs": [],
   "source": []
  }
 ],
 "metadata": {
  "kernelspec": {
   "display_name": "Python 3 (ipykernel)",
   "language": "python",
   "name": "python3"
  },
  "language_info": {
   "codemirror_mode": {
    "name": "ipython",
    "version": 3
   },
   "file_extension": ".py",
   "mimetype": "text/x-python",
   "name": "python",
   "nbconvert_exporter": "python",
   "pygments_lexer": "ipython3",
   "version": "3.7.16"
  }
 },
 "nbformat": 4,
 "nbformat_minor": 4
}
