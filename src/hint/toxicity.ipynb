{
 "cells": [
  {
   "cell_type": "code",
   "execution_count": 1,
   "id": "6cadacd5-24f8-441d-8085-27f0977f3656",
   "metadata": {},
   "outputs": [],
   "source": [
    "import torch\n",
    "from toxicity.MTDNN\n",
    "\n",
    "base_path = \"./toxicity/multitask-toxicity/deep_predictive_models/deep_learning/SE/MTDNN\"\n",
    "ckpt_path = f\"{base_path}/checkpoints/best_model_by_valid.pt\""
   ]
  },
  {
   "cell_type": "code",
   "execution_count": 2,
   "id": "43bfcd81-25e0-4278-b2d0-f93cac0d4cac",
   "metadata": {},
   "outputs": [
    {
     "data": {
      "text/plain": [
       "'./toxicity/multitask-toxicity/deep_predictive_models/deep_learning/SE/MTDNN/checkpoints/best_model_by_valid.pt'"
      ]
     },
     "execution_count": 2,
     "metadata": {},
     "output_type": "execute_result"
    }
   ],
   "source": [
    "ckpt_path"
   ]
  },
  {
   "cell_type": "code",
   "execution_count": null,
   "id": "02fdd9bc-8fd8-4623-ac3a-2c44bf2da454",
   "metadata": {},
   "outputs": [],
   "source": []
  }
 ],
 "metadata": {
  "kernelspec": {
   "display_name": "Python 3 (ipykernel)",
   "language": "python",
   "name": "python3"
  },
  "language_info": {
   "codemirror_mode": {
    "name": "ipython",
    "version": 3
   },
   "file_extension": ".py",
   "mimetype": "text/x-python",
   "name": "python",
   "nbconvert_exporter": "python",
   "pygments_lexer": "ipython3",
   "version": "3.7.16"
  }
 },
 "nbformat": 4,
 "nbformat_minor": 5
}
